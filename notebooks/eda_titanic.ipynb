{
 "cells": [
  {
   "cell_type": "markdown",
   "id": "e20a4922",
   "metadata": {},
   "source": [
    "# Uncovering the Factors That Influenced Survival in the Titanic Disaster "
   ]
  },
  {
   "cell_type": "markdown",
   "id": "be940a1a",
   "metadata": {},
   "source": [
    "This beginner-friendly project explores the classic Titanic dataset through basic exploratory data analysis (EDA), aiming to uncover factors that influenced survival while providing hands-on practice with Python, pandas, seaborn, and version control using Git and GitHub."
   ]
  },
  {
   "cell_type": "code",
   "execution_count": null,
   "id": "11edbaed",
   "metadata": {},
   "outputs": [],
   "source": [
    "# Import necessary libraries\n",
    "import pandas as pd\n",
    "import numpy as np\n",
    "import matplotlib.pyplot as plt\n",
    "import seaborn as sns\n",
    "import missingno as msno"
   ]
  },
  {
   "cell_type": "markdown",
   "id": "4744989d",
   "metadata": {},
   "source": [
    "## Loading and Exploring the Dataset"
   ]
  },
  {
   "cell_type": "code",
   "execution_count": null,
   "id": "d2892adc",
   "metadata": {},
   "outputs": [],
   "source": [
    "# Load dataset\n",
    "df = pd.read_csv('../data/titanic.csv')\n",
    "\n",
    "# Display first few rows of the dataset\n",
    "df.sample(5)"
   ]
  },
  {
   "cell_type": "code",
   "execution_count": null,
   "id": "8993e7a8",
   "metadata": {},
   "outputs": [],
   "source": [
    "#Data overview\n",
    "print(\"Shape:\", df.shape)\n",
    "\n",
    "df.info()\n",
    "\n",
    "print(\"\\nMissing values:\\n\", df.isnull().sum())"
   ]
  },
  {
   "cell_type": "markdown",
   "id": "8c7ab12c",
   "metadata": {},
   "source": [
    "The data is well nstructured and numeric columns already have the appropiate type."
   ]
  },
  {
   "cell_type": "code",
   "execution_count": null,
   "id": "eb5e5e8c",
   "metadata": {},
   "outputs": [],
   "source": [
    "# Visualize missing values\n",
    "msno.matrix(df)\n",
    "plt.show()"
   ]
  },
  {
   "cell_type": "markdown",
   "id": "9a81222c",
   "metadata": {},
   "source": [
    "The \"Cabin\" column has a significant number of missing values and we don't have a meaningul way of replacing them, so we'll dorp that column for this analysis.\n",
    "\n",
    "Age on the other hand, has fewer missing values, but we can't drop those rows since the size of the dataset would be significantly reduced and \"Age\" is also a very relevant feature. We'll replace the missing values with the median since more advaced methods of substitution are out of the scope of this project (haven't acquired those skills yet). This however should be a good way of hadling the missing values without impacting analysis in a meaningful way.\n",
    "\n",
    "For the \"Embarked\" column we can also replace missing values with a measure of central tendency, the mode in this case (very few missing)."
   ]
  },
  {
   "cell_type": "markdown",
   "id": "4c3e984e",
   "metadata": {},
   "source": [
    "## Cleaning the data"
   ]
  },
  {
   "cell_type": "code",
   "execution_count": null,
   "id": "81446528",
   "metadata": {},
   "outputs": [],
   "source": [
    "# Drop \"Cabin\" column for this analysis due to high number of missing values\n",
    "df = df.drop(columns=[\"Cabin\"])\n",
    "\n",
    "# Fill missing values in \"Embarked\" with the mode\n",
    "df[\"Embarked\"] = df[\"Embarked\"].fillna(df[\"Embarked\"].mode().iloc[0])\n",
    "\n",
    "# Fill missing values in \"Age\" with the median\n",
    "df[\"Age\"] = df[\"Age\"].fillna(df[\"Age\"].median())\n",
    "\n",
    "df.isna().sum()"
   ]
  },
  {
   "cell_type": "markdown",
   "id": "4aeb94dd",
   "metadata": {},
   "source": [
    "## EDA"
   ]
  },
  {
   "cell_type": "code",
   "execution_count": null,
   "id": "40eec24e",
   "metadata": {},
   "outputs": [],
   "source": [
    "# Quick look at survival count\n",
    "sns.countplot(\n",
    "    data=df,\n",
    "    x=\"Survived\",\n",
    "    hue=\"Survived\",        \n",
    "    palette=['#e74c3c', '#2ecc71'],\n",
    "    legend=False            \n",
    ")\n",
    "plt.title(\"Survival Counts\")\n",
    "plt.xlabel(\"Survived (0 = No, 1 = Yes)\")\n",
    "plt.ylabel(\"\")  # optional: keep y-axis label empty\n",
    "plt.show()"
   ]
  },
  {
   "cell_type": "markdown",
   "id": "fbdfa425",
   "metadata": {},
   "source": [
    "Most passengers didn't survive."
   ]
  },
  {
   "cell_type": "markdown",
   "id": "11e9e96b",
   "metadata": {},
   "source": [
    "### Numerical Features"
   ]
  },
  {
   "cell_type": "code",
   "execution_count": null,
   "id": "6ffeedbc",
   "metadata": {},
   "outputs": [],
   "source": [
    "# Distribution of numerical features - \"Age\" and '\"Fare\"\n",
    "\n",
    "# Age\n",
    "print(\"Age Summary:\")\n",
    "print(df[\"Age\"].describe())\n",
    "\n",
    "plt.figure(figsize=(8, 5))\n",
    "sns.histplot(df[\"Age\"], kde=True, bins=30, color=\"#3498db\")\n",
    "plt.title(\"Age Distribution\")\n",
    "plt.xlabel(\"Age\")\n",
    "plt.ylabel(\"\")\n",
    "plt.show()\n",
    "\n",
    "# Fare\n",
    "print(\"\\nFare Summary:\")\n",
    "print(df[\"Fare\"].describe())\n",
    "\n",
    "plt.figure(figsize=(8, 5))\n",
    "sns.histplot(df[\"Fare\"], kde=True, bins=40, color=\"#9b59b6\")\n",
    "plt.title(\"Fare Distribution\")\n",
    "plt.xlabel(\"Fare\")\n",
    "plt.ylabel(\"\")\n",
    "plt.show()"
   ]
  },
  {
   "cell_type": "markdown",
   "id": "0c634028",
   "metadata": {},
   "source": [
    "- The distribution plot shows how replacing the missing values in the Age column with the median affects the overall shape, which likely followed a roughly normal distribution.\n",
    "\n",
    "- The fare distribution reveals that most passengers paid relatively low ticket prices, while a smaller group of wealthier individuals could afford higher-class tickets."
   ]
  },
  {
   "cell_type": "code",
   "execution_count": null,
   "id": "31aba967",
   "metadata": {},
   "outputs": [],
   "source": [
    "# Survival rate and age distribution\n",
    "plt.figure(figsize=(10, 6))\n",
    "sns.kdeplot(data=df[df[\"Survived\"] == 0], x=\"Age\", fill=True, label=\"Did Not Survive\", color=\"#e74c3c\", alpha=0.5)\n",
    "sns.kdeplot(data=df[df[\"Survived\"] == 1], x=\"Age\", fill=True, label=\"Survived\", color=\"#2ecc71\", alpha=0.5)\n",
    "plt.title(\"Age Distribution by Survival Status (KDE)\")\n",
    "plt.xlabel(\"Age\")\n",
    "plt.ylabel(\"Density\")\n",
    "plt.legend()\n",
    "plt.show()\n",
    "\n",
    "# Survival rate and fare distribution\n",
    "plt.figure(figsize=(10, 6))\n",
    "sns.kdeplot(data=df[df[\"Survived\"] == 0][\"Fare\"], label=\"Did not survive\", fill=True, alpha=0.5, color=\"#e74c3c\")\n",
    "sns.kdeplot(data=df[df[\"Survived\"] == 1][\"Fare\"], label=\"Survived\", fill=True, alpha=0.5, color=\"#2ecc71\")\n",
    "plt.title(\"Fare Distribution by Survival\")\n",
    "plt.xlabel(\"Fare\")\n",
    "plt.ylabel(\"Density\")\n",
    "plt.legend()\n",
    "plt.show()"
   ]
  },
  {
   "cell_type": "markdown",
   "id": "9aa8b632",
   "metadata": {},
   "source": [
    "- The first plot shows that younger passengers - particularly those under 18 - had a higher likelihood of survival.\n",
    "\n",
    "- The second plot indicates that passengers who paid higher fares generally had better survival rates."
   ]
  },
  {
   "cell_type": "markdown",
   "id": "a892b770",
   "metadata": {},
   "source": [
    "### Categorical Features"
   ]
  },
  {
   "cell_type": "code",
   "execution_count": null,
   "id": "253c2618",
   "metadata": {},
   "outputs": [],
   "source": [
    "# Look at passenger sex \n",
    "\n",
    "# Count passengers by sex\n",
    "print(\"Total count of male and female passengers\")\n",
    "sex_counts = df[\"Sex\"].value_counts()\n",
    "print(sex_counts)\n",
    "print()\n",
    "\n",
    "# Survival counts by sex\n",
    "print(\"Survival counts by sex:\")\n",
    "survival_by_sex = df.groupby(\"Sex\")[\"Survived\"].value_counts().unstack()\n",
    "print(survival_by_sex)\n",
    "print()\n",
    "\n",
    "# Survival rate by sex\n",
    "print(\"Survival rate by sex:\")\n",
    "survival_rate_sex = df.groupby(\"Sex\")[\"Survived\"].mean()\n",
    "print(survival_rate_sex)\n",
    "print()"
   ]
  },
  {
   "cell_type": "markdown",
   "id": "f7c129bd",
   "metadata": {},
   "source": [
    "There is a clear difference in survival rates between male and female passengers, with women surviving at a much higher proportion than men."
   ]
  },
  {
   "cell_type": "code",
   "execution_count": null,
   "id": "a1855ed1",
   "metadata": {},
   "outputs": [],
   "source": [
    "# Visualize survival count by sex\n",
    "sns.countplot(data=df, x='Sex', hue='Survived', palette=['#e74c3c', '#2ecc71'])\n",
    "plt.title('Survival Counts by Sex')\n",
    "plt.xlabel('Sex')\n",
    "plt.ylabel('')\n",
    "plt.legend(title='Survived', labels=['No', 'Yes'])\n",
    "plt.show()\n"
   ]
  },
  {
   "cell_type": "markdown",
   "id": "75e2bf0d",
   "metadata": {},
   "source": [
    "Next to make the difference in survival by age easier to interpret we'll create a helper column which will classify passengers as children or non-children."
   ]
  },
  {
   "cell_type": "code",
   "execution_count": null,
   "id": "87d01e14",
   "metadata": {},
   "outputs": [],
   "source": [
    "# Look at children/younger passengers specifically - \"Woman and children first\" policy\n",
    "df[\"IsChild\"] = df[\"Age\"] < 18\n",
    "\n",
    "print(\"Survival rates for children vs adults:\")\n",
    "survival_rates = df.groupby(\"IsChild\")[\"Survived\"].mean()\n",
    "print(survival_rates)\n",
    "\n",
    "df[\"IsChild_str\"] = df[\"IsChild\"].astype(str)\n",
    "\n",
    "sns.histplot(\n",
    "    data=df,\n",
    "    x=\"IsChild_str\",\n",
    "    hue=\"Survived\",\n",
    "    multiple=\"fill\",\n",
    "    shrink=0.8,\n",
    "    palette=[\"#e74c3c\", \"#2ecc71\"]\n",
    ")\n",
    "\n",
    "plt.title(\"Proportion of Survival by Age Group (Child vs Adult)\")\n",
    "plt.xlabel(\"Is Child?\")\n",
    "plt.ylabel(\"\")\n",
    "plt.show()"
   ]
  },
  {
   "cell_type": "code",
   "execution_count": null,
   "id": "f66d1efa",
   "metadata": {},
   "outputs": [],
   "source": [
    "# Look at passenger class \n",
    "\n",
    "# Count passengers by class\n",
    "print(\"Passenger counts by class:\")\n",
    "class_counts = df[\"Pclass\"].value_counts()\n",
    "print(class_counts)\n",
    "print()\n",
    "\n",
    "# Survival counts by class\n",
    "print(\"Survival counts by class:\")\n",
    "survival_by_class = df.groupby(\"Pclass\")[\"Survived\"].value_counts().unstack()\n",
    "print(survival_by_class)\n",
    "print()\n",
    "\n",
    "# Survival rate by class\n",
    "print(\"Survival rate by class:\")\n",
    "survival_rate_class = df.groupby(\"Pclass\")[\"Survived\"].mean()\n",
    "print(survival_rate_class)\n",
    "print()"
   ]
  },
  {
   "cell_type": "code",
   "execution_count": null,
   "id": "f5ec9db7",
   "metadata": {},
   "outputs": [],
   "source": [
    "# Visualize survival count by class\n",
    "sns.countplot(data=df, x=\"Pclass\", hue=\"Survived\", palette=[\"#e74c3c\", \"#2ecc71\"])\n",
    "plt.title(\"Survival Counts by Class\")\n",
    "plt.xlabel(\"Class\")\n",
    "plt.ylabel(\"\")\n",
    "plt.legend(title=\"Survived\", labels=[\"No\", \"Yes\"], loc=\"upper right\", bbox_to_anchor=(1.18, 1))\n",
    "plt.show()\n"
   ]
  },
  {
   "cell_type": "markdown",
   "id": "d3df401f",
   "metadata": {},
   "source": [
    "Consistent with the earlier fare distribution visualization, passengers who could afford higher-class tickets had a greater chance of survival."
   ]
  },
  {
   "cell_type": "markdown",
   "id": "f6dbfc3e",
   "metadata": {},
   "source": [
    "## Conclusion\n",
    "\n",
    "This exploratory analysis of the Titanic dataset highlighted several key factors associated with survival. Women and younger passengers were more likely to survive, while men faced significantly lower chances. Wealth also played a role, as those who could afford higher-class tickets and fares had better survival rates."
   ]
  }
 ],
 "metadata": {
  "kernelspec": {
   "display_name": "Python 3",
   "language": "python",
   "name": "python3"
  },
  "language_info": {
   "codemirror_mode": {
    "name": "ipython",
    "version": 3
   },
   "file_extension": ".py",
   "mimetype": "text/x-python",
   "name": "python",
   "nbconvert_exporter": "python",
   "pygments_lexer": "ipython3",
   "version": "3.13.5"
  }
 },
 "nbformat": 4,
 "nbformat_minor": 5
}
